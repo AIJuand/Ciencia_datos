{
  "nbformat": 4,
  "nbformat_minor": 0,
  "metadata": {
    "colab": {
      "provenance": [],
      "authorship_tag": "ABX9TyOKgd7eV9dnf3NN5X0rh458",
      "include_colab_link": true
    },
    "kernelspec": {
      "name": "python3",
      "display_name": "Python 3"
    },
    "language_info": {
      "name": "python"
    }
  },
  "cells": [
    {
      "cell_type": "markdown",
      "metadata": {
        "id": "view-in-github",
        "colab_type": "text"
      },
      "source": [
        "<a href=\"https://colab.research.google.com/github/AIJuand/Ciencia_datos/blob/main/PythonMD2.ipynb\" target=\"_parent\"><img src=\"https://colab.research.google.com/assets/colab-badge.svg\" alt=\"Open In Colab\"/></a>"
      ]
    },
    {
      "cell_type": "markdown",
      "source": [
        "##Python\n"
      ],
      "metadata": {
        "id": "OrZApF-mQyN4"
      }
    },
    {
      "cell_type": "markdown",
      "source": [
        "1. Revise todas las lecciones de programación en Python. \n",
        "\n",
        "Listo!\n"
      ],
      "metadata": {
        "id": "l6SnmmKMQwzj"
      }
    },
    {
      "cell_type": "markdown",
      "source": [
        "2. Escriba un cuaderno que contenga dos ejercicios propuestos y resueltos de colecciones, en los cuales utilice los diferentes métodos asociados a cada tipo de colección."
      ],
      "metadata": {
        "id": "0CVU6vT0Q9ol"
      }
    },
    {
      "cell_type": "markdown",
      "source": [
        "elabore un conjunto vacio el cual llamado Casa"
      ],
      "metadata": {
        "id": "NlIIIDoZvvhi"
      }
    },
    {
      "cell_type": "code",
      "execution_count": 1,
      "metadata": {
        "id": "XDCtqBSHQo-1"
      },
      "outputs": [],
      "source": [
        "Casa={}"
      ]
    },
    {
      "cell_type": "markdown",
      "source": [
        "Ahora conviertalo en disccionario al agregarle 4 subconjutos de su casa, de los cuales uno sea definido como una tupla, otro una lista y otro un conjunto"
      ],
      "metadata": {
        "id": "zjlTvKx6v-Bo"
      }
    },
    {
      "cell_type": "code",
      "source": [
        "Casa['Personas']=['Alex','Juan','David']#Lista\n",
        "Casa['Muebles']=['Cama','Sofa','Comedor'] #lista\n",
        "Casa['Habitaciones']=(1,2,3,4)#tupla\n",
        "Casa['Baños']={'p1','p2','p3'} #conjunto"
      ],
      "metadata": {
        "id": "oaExxvPjwUCn"
      },
      "execution_count": 51,
      "outputs": []
    },
    {
      "cell_type": "markdown",
      "source": [
        "Juan compró un escritorio, podría agregarlo al diccionario y a la lista de Muebles, además decir cuantos muebles hay ahora en la casa."
      ],
      "metadata": {
        "id": "TemSWiXRwsVE"
      }
    },
    {
      "cell_type": "code",
      "source": [
        "\n",
        "Casa['Muebles'].append('escritorio')\n",
        "print(Casa['Muebles'])"
      ],
      "metadata": {
        "colab": {
          "base_uri": "https://localhost:8080/"
        },
        "id": "nfeibcWixSMn",
        "outputId": "b166635c-468f-4775-ddf1-73705eca4fe6"
      },
      "execution_count": 52,
      "outputs": [
        {
          "output_type": "stream",
          "name": "stdout",
          "text": [
            "['Cama', 'Sofa', 'Comedor', 'escritorio']\n"
          ]
        }
      ]
    },
    {
      "cell_type": "code",
      "source": [
        "print('la casa ahora tiene', len(Casa['Muebles']), 'Muebles')"
      ],
      "metadata": {
        "colab": {
          "base_uri": "https://localhost:8080/"
        },
        "id": "incn0eVExjiS",
        "outputId": "f77e0f24-6fb8-4d91-cbea-c9accd7c1192"
      },
      "execution_count": 53,
      "outputs": [
        {
          "output_type": "stream",
          "name": "stdout",
          "text": [
            "la casa ahora tiene 4 Muebles\n"
          ]
        }
      ]
    },
    {
      "cell_type": "markdown",
      "source": [
        "Alex se fue de la casa y en su lugar llegó Aura y mateo ¿Quienés viven en la casa? ¿Cuantas personas viven ahora en la casa?"
      ],
      "metadata": {
        "id": "pH6bfosa00yp"
      }
    },
    {
      "cell_type": "code",
      "source": [
        "Casa['Personas'].append('Aura')\n",
        "Casa['Personas'].append('Mateo')\n",
        "Casa['Personas'].remove('Alex')\n",
        "print('Los integrantes de la casa son:' , Casa['Personas'])\n",
        "print('En la casa ahora viven' , len(Casa['Personas']), 'personas')"
      ],
      "metadata": {
        "colab": {
          "base_uri": "https://localhost:8080/"
        },
        "id": "_3_IvnHl1QRy",
        "outputId": "68ebe071-dd05-4a50-9ea9-e7618a0427ad"
      },
      "execution_count": 54,
      "outputs": [
        {
          "output_type": "stream",
          "name": "stdout",
          "text": [
            "Los integrantes de la casa son: ['Juan', 'David', 'Aura', 'Mateo']\n",
            "En la casa ahora viven 4 personas\n"
          ]
        }
      ]
    },
    {
      "cell_type": "markdown",
      "source": [
        "Ahora se quiere convertir la lista de integrates (Personas) en tupla ¿Es posible?"
      ],
      "metadata": {
        "id": "hXoRFZo83GYW"
      }
    },
    {
      "cell_type": "code",
      "source": [
        "Integrantes = tuple(Casa['Personas'])\n",
        "Casa['Personas']=Integrantes"
      ],
      "metadata": {
        "id": "7FFBnu973PL1"
      },
      "execution_count": 55,
      "outputs": []
    },
    {
      "cell_type": "code",
      "source": [
        "print(Casa['Personas'][:])"
      ],
      "metadata": {
        "colab": {
          "base_uri": "https://localhost:8080/"
        },
        "id": "gcZ0y0Tc3dwh",
        "outputId": "6c716984-80af-49d9-92d9-3ab42e46493a"
      },
      "execution_count": 60,
      "outputs": [
        {
          "output_type": "stream",
          "name": "stdout",
          "text": [
            "('Juan', 'David', 'Aura', 'Mateo')\n"
          ]
        }
      ]
    },
    {
      "cell_type": "markdown",
      "source": [
        "Dado que la cantidad de baños no es posible cambiarla ¿Habria alguna forma de que estos no sean intercambiables?"
      ],
      "metadata": {
        "id": "R1TsFNzX4VJf"
      }
    },
    {
      "cell_type": "code",
      "source": [
        "Casa['Baños']=frozenset(Casa['Baños'])"
      ],
      "metadata": {
        "id": "iHFLeUvc4t7C"
      },
      "execution_count": 61,
      "outputs": []
    },
    {
      "cell_type": "code",
      "source": [
        "Casa['Baños'].add('P4')"
      ],
      "metadata": {
        "colab": {
          "base_uri": "https://localhost:8080/",
          "height": 172
        },
        "id": "bl3wh-YF45TV",
        "outputId": "5e2624df-89f3-4e55-c435-ba5bce40fe93"
      },
      "execution_count": 63,
      "outputs": [
        {
          "output_type": "error",
          "ename": "AttributeError",
          "evalue": "ignored",
          "traceback": [
            "\u001b[0;31m---------------------------------------------------------------------------\u001b[0m",
            "\u001b[0;31mAttributeError\u001b[0m                            Traceback (most recent call last)",
            "\u001b[0;32m<ipython-input-63-c8f4ba250aed>\u001b[0m in \u001b[0;36m<module>\u001b[0;34m\u001b[0m\n\u001b[0;32m----> 1\u001b[0;31m \u001b[0mCasa\u001b[0m\u001b[0;34m[\u001b[0m\u001b[0;34m'Baños'\u001b[0m\u001b[0;34m]\u001b[0m\u001b[0;34m.\u001b[0m\u001b[0madd\u001b[0m\u001b[0;34m(\u001b[0m\u001b[0;34m'P4'\u001b[0m\u001b[0;34m)\u001b[0m\u001b[0;34m\u001b[0m\u001b[0;34m\u001b[0m\u001b[0m\n\u001b[0m",
            "\u001b[0;31mAttributeError\u001b[0m: 'frozenset' object has no attribute 'add'"
          ]
        }
      ]
    }
  ]
}